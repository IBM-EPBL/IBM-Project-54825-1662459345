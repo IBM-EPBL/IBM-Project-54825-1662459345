{
  "nbformat": 4,
  "nbformat_minor": 0,
  "metadata": {
    "colab": {
      "provenance": []
    },
    "kernelspec": {
      "name": "python3",
      "display_name": "Python 3"
    },
    "language_info": {
      "name": "python"
    }
  },
  "cells": [
    {
      "cell_type": "markdown",
      "source": [
        "Libraries"
      ],
      "metadata": {
        "id": "zYX-qwUFNN7Y"
      }
    },
    {
      "cell_type": "code",
      "source": [
        "import sys\n",
        "import numpy as np #Linear Algebra\n",
        "import pandas as pd #Data Processing import seaborn as sns #Data Visualizaton\n",
        "import pickle\n",
        "import matplotlib.pyplot as plt\n",
        "import seaborn as sns\n",
        "%matplotlib inline\n",
        "from sklearn.preprocessing import LabelEncoder #LabelEncoding From Sklearn\n",
        "from sklearn.preprocessing import OneHotEncoder #One-Hot Encoding From Sklearn\n",
        "from sklearn.model_selection import train_test_split #Split Data in Train & Test Array\n",
        "from sklearn.preprocessing import StandardScaler\n",
        "from sklearn.tree import DecisionTreeClassifier #ML Algorithm\n",
        "from sklearn.metrics import accuracy_score #Calculate Accuracy Score\n",
        "import sklearn.metrics as metrics #Confusion Matrix"
      ],
      "metadata": {
        "id": "o_MPlpraNTw2"
      },
      "execution_count": null,
      "outputs": []
    },
    {
      "cell_type": "markdown",
      "source": [
        "Import Dataset"
      ],
      "metadata": {
        "id": "F-amt2KEO1hg"
      }
    },
    {
      "cell_type": "code",
      "source": [
        "df=pd.read_csv(\"flightdata.csv\")"
      ],
      "metadata": {
        "id": "o0vfoXsWOp_9"
      },
      "execution_count": null,
      "outputs": []
    },
    {
      "cell_type": "code",
      "source": [],
      "metadata": {
        "id": "fBbs1impPEQ4"
      },
      "execution_count": null,
      "outputs": []
    }
  ]
}