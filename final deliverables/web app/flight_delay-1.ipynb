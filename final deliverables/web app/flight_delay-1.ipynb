{
  "nbformat": 4,
  "nbformat_minor": 0,
  "metadata": {
    "colab": {
      "provenance": []
    },
    "kernelspec": {
      "name": "python3",
      "display_name": "Python 3"
    },
    "language_info": {
      "name": "python"
    }
  },
  "cells": [
    {
      "cell_type": "markdown",
      "source": [
        "Libraries"
      ],
      "metadata": {
        "id": "zYX-qwUFNN7Y"
      }
    },
    {
      "cell_type": "code",
      "source": [
        "import sys\n",
        "import numpy as np #Linear Algebra\n",
        "import pandas as pd #Data Processing import seaborn as sns #Data Visualizaton\n",
        "import pickle\n",
        "import matplotlib.pyplot as plt\n",
        "import seaborn as sns\n",
        "%matplotlib inline\n",
        "from sklearn.preprocessing import LabelEncoder #LabelEncoding From Sklearn\n",
        "from sklearn.preprocessing import OneHotEncoder #One-Hot Encoding From Sklearn\n",
        "from sklearn.model_selection import train_test_split #Split Data in Train & Test Array\n",
        "from sklearn.preprocessing import StandardScaler\n",
        "from sklearn.tree import DecisionTreeClassifier #ML Algorithm\n",
        "from sklearn.metrics import accuracy_score #Calculate Accuracy Score\n",
        "import sklearn.metrics as metrics #Confusion Matrix"
      ],
      "metadata": {
        "id": "o_MPlpraNTw2"
      },
      "execution_count": 89,
      "outputs": []
    },
    {
      "cell_type": "markdown",
      "source": [
        "Import Dataset"
      ],
      "metadata": {
        "id": "F-amt2KEO1hg"
      }
    },
    {
      "cell_type": "code",
      "source": [
        "df=pd.read_csv(\"flightdata.csv\")"
      ],
      "metadata": {
        "id": "o0vfoXsWOp_9"
      },
      "execution_count": 90,
      "outputs": []
    },
    {
      "cell_type": "markdown",
      "source": [
        "Dataset Analyses"
      ],
      "metadata": {
        "id": "UwtZw5PDPrzg"
      }
    },
    {
      "cell_type": "code",
      "source": [
        "df.info()"
      ],
      "metadata": {
        "colab": {
          "base_uri": "https://localhost:8080/"
        },
        "id": "fBbs1impPEQ4",
        "outputId": "d22a1c7d-b22d-4c75-e499-cae417bae55d"
      },
      "execution_count": 91,
      "outputs": [
        {
          "output_type": "stream",
          "name": "stdout",
          "text": [
            "<class 'pandas.core.frame.DataFrame'>\n",
            "RangeIndex: 11231 entries, 0 to 11230\n",
            "Data columns (total 26 columns):\n",
            " #   Column               Non-Null Count  Dtype  \n",
            "---  ------               --------------  -----  \n",
            " 0   YEAR                 11231 non-null  int64  \n",
            " 1   QUARTER              11231 non-null  int64  \n",
            " 2   MONTH                11231 non-null  int64  \n",
            " 3   DAY_OF_MONTH         11231 non-null  int64  \n",
            " 4   DAY_OF_WEEK          11231 non-null  int64  \n",
            " 5   UNIQUE_CARRIER       11231 non-null  object \n",
            " 6   TAIL_NUM             11231 non-null  object \n",
            " 7   FL_NUM               11231 non-null  int64  \n",
            " 8   ORIGIN_AIRPORT_ID    11231 non-null  int64  \n",
            " 9   ORIGIN               11231 non-null  object \n",
            " 10  DEST_AIRPORT_ID      11231 non-null  int64  \n",
            " 11  DEST                 11231 non-null  object \n",
            " 12  CRS_DEP_TIME         11231 non-null  int64  \n",
            " 13  DEP_TIME             11124 non-null  float64\n",
            " 14  DEP_DELAY            11124 non-null  float64\n",
            " 15  DEP_DEL15            11124 non-null  float64\n",
            " 16  CRS_ARR_TIME         11231 non-null  int64  \n",
            " 17  ARR_TIME             11116 non-null  float64\n",
            " 18  ARR_DELAY            11043 non-null  float64\n",
            " 19  ARR_DEL15            11043 non-null  float64\n",
            " 20  CANCELLED            11231 non-null  float64\n",
            " 21  DIVERTED             11231 non-null  float64\n",
            " 22  CRS_ELAPSED_TIME     11231 non-null  float64\n",
            " 23  ACTUAL_ELAPSED_TIME  11043 non-null  float64\n",
            " 24  DISTANCE             11231 non-null  float64\n",
            " 25  Unnamed: 25          0 non-null      float64\n",
            "dtypes: float64(12), int64(10), object(4)\n",
            "memory usage: 2.2+ MB\n"
          ]
        }
      ]
    },
    {
      "cell_type": "code",
      "source": [
        "df.describe()"
      ],
      "metadata": {
        "colab": {
          "base_uri": "https://localhost:8080/",
          "height": 411
        },
        "id": "TOrTZoiYP4mU",
        "outputId": "031dea50-408b-4af5-de60-99a5fc02cdbd"
      },
      "execution_count": 92,
      "outputs": [
        {
          "output_type": "execute_result",
          "data": {
            "text/plain": [
              "          YEAR       QUARTER         MONTH  DAY_OF_MONTH   DAY_OF_WEEK  \\\n",
              "count  11231.0  11231.000000  11231.000000  11231.000000  11231.000000   \n",
              "mean    2016.0      2.544475      6.628973     15.790758      3.960199   \n",
              "std        0.0      1.090701      3.354678      8.782056      1.995257   \n",
              "min     2016.0      1.000000      1.000000      1.000000      1.000000   \n",
              "25%     2016.0      2.000000      4.000000      8.000000      2.000000   \n",
              "50%     2016.0      3.000000      7.000000     16.000000      4.000000   \n",
              "75%     2016.0      3.000000      9.000000     23.000000      6.000000   \n",
              "max     2016.0      4.000000     12.000000     31.000000      7.000000   \n",
              "\n",
              "             FL_NUM  ORIGIN_AIRPORT_ID  DEST_AIRPORT_ID  CRS_DEP_TIME  \\\n",
              "count  11231.000000       11231.000000     11231.000000  11231.000000   \n",
              "mean    1334.325617       12334.516695     12302.274508   1320.798326   \n",
              "std      811.875227        1595.026510      1601.988550    490.737845   \n",
              "min        7.000000       10397.000000     10397.000000     10.000000   \n",
              "25%      624.000000       10397.000000     10397.000000    905.000000   \n",
              "50%     1267.000000       12478.000000     12478.000000   1320.000000   \n",
              "75%     2032.000000       13487.000000     13487.000000   1735.000000   \n",
              "max     2853.000000       14747.000000     14747.000000   2359.000000   \n",
              "\n",
              "           DEP_TIME  ...  CRS_ARR_TIME      ARR_TIME     ARR_DELAY  \\\n",
              "count  11124.000000  ...  11231.000000  11116.000000  11043.000000   \n",
              "mean    1327.189410  ...   1537.312795   1523.978499     -2.573123   \n",
              "std      500.306462  ...    502.512494    512.536041     39.232521   \n",
              "min        1.000000  ...      2.000000      1.000000    -67.000000   \n",
              "25%      905.000000  ...   1130.000000   1135.000000    -19.000000   \n",
              "50%     1324.000000  ...   1559.000000   1547.000000    -10.000000   \n",
              "75%     1739.000000  ...   1952.000000   1945.000000      1.000000   \n",
              "max     2400.000000  ...   2359.000000   2400.000000    615.000000   \n",
              "\n",
              "          ARR_DEL15     CANCELLED      DIVERTED  CRS_ELAPSED_TIME  \\\n",
              "count  11043.000000  11231.000000  11231.000000      11231.000000   \n",
              "mean       0.124513      0.010150      0.006589        190.652124   \n",
              "std        0.330181      0.100241      0.080908         78.386317   \n",
              "min        0.000000      0.000000      0.000000         93.000000   \n",
              "25%        0.000000      0.000000      0.000000        127.000000   \n",
              "50%        0.000000      0.000000      0.000000        159.000000   \n",
              "75%        0.000000      0.000000      0.000000        255.000000   \n",
              "max        1.000000      1.000000      1.000000        397.000000   \n",
              "\n",
              "       ACTUAL_ELAPSED_TIME      DISTANCE  Unnamed: 25  \n",
              "count         11043.000000  11231.000000          0.0  \n",
              "mean            179.661233   1161.031965          NaN  \n",
              "std              77.940399    643.683379          NaN  \n",
              "min              75.000000    509.000000          NaN  \n",
              "25%             117.000000    594.000000          NaN  \n",
              "50%             149.000000    907.000000          NaN  \n",
              "75%             236.000000   1927.000000          NaN  \n",
              "max             428.000000   2422.000000          NaN  \n",
              "\n",
              "[8 rows x 22 columns]"
            ],
            "text/html": [
              "\n",
              "  <div id=\"df-85b7fc21-e0c4-4276-a4f3-3e608689a65b\">\n",
              "    <div class=\"colab-df-container\">\n",
              "      <div>\n",
              "<style scoped>\n",
              "    .dataframe tbody tr th:only-of-type {\n",
              "        vertical-align: middle;\n",
              "    }\n",
              "\n",
              "    .dataframe tbody tr th {\n",
              "        vertical-align: top;\n",
              "    }\n",
              "\n",
              "    .dataframe thead th {\n",
              "        text-align: right;\n",
              "    }\n",
              "</style>\n",
              "<table border=\"1\" class=\"dataframe\">\n",
              "  <thead>\n",
              "    <tr style=\"text-align: right;\">\n",
              "      <th></th>\n",
              "      <th>YEAR</th>\n",
              "      <th>QUARTER</th>\n",
              "      <th>MONTH</th>\n",
              "      <th>DAY_OF_MONTH</th>\n",
              "      <th>DAY_OF_WEEK</th>\n",
              "      <th>FL_NUM</th>\n",
              "      <th>ORIGIN_AIRPORT_ID</th>\n",
              "      <th>DEST_AIRPORT_ID</th>\n",
              "      <th>CRS_DEP_TIME</th>\n",
              "      <th>DEP_TIME</th>\n",
              "      <th>...</th>\n",
              "      <th>CRS_ARR_TIME</th>\n",
              "      <th>ARR_TIME</th>\n",
              "      <th>ARR_DELAY</th>\n",
              "      <th>ARR_DEL15</th>\n",
              "      <th>CANCELLED</th>\n",
              "      <th>DIVERTED</th>\n",
              "      <th>CRS_ELAPSED_TIME</th>\n",
              "      <th>ACTUAL_ELAPSED_TIME</th>\n",
              "      <th>DISTANCE</th>\n",
              "      <th>Unnamed: 25</th>\n",
              "    </tr>\n",
              "  </thead>\n",
              "  <tbody>\n",
              "    <tr>\n",
              "      <th>count</th>\n",
              "      <td>11231.0</td>\n",
              "      <td>11231.000000</td>\n",
              "      <td>11231.000000</td>\n",
              "      <td>11231.000000</td>\n",
              "      <td>11231.000000</td>\n",
              "      <td>11231.000000</td>\n",
              "      <td>11231.000000</td>\n",
              "      <td>11231.000000</td>\n",
              "      <td>11231.000000</td>\n",
              "      <td>11124.000000</td>\n",
              "      <td>...</td>\n",
              "      <td>11231.000000</td>\n",
              "      <td>11116.000000</td>\n",
              "      <td>11043.000000</td>\n",
              "      <td>11043.000000</td>\n",
              "      <td>11231.000000</td>\n",
              "      <td>11231.000000</td>\n",
              "      <td>11231.000000</td>\n",
              "      <td>11043.000000</td>\n",
              "      <td>11231.000000</td>\n",
              "      <td>0.0</td>\n",
              "    </tr>\n",
              "    <tr>\n",
              "      <th>mean</th>\n",
              "      <td>2016.0</td>\n",
              "      <td>2.544475</td>\n",
              "      <td>6.628973</td>\n",
              "      <td>15.790758</td>\n",
              "      <td>3.960199</td>\n",
              "      <td>1334.325617</td>\n",
              "      <td>12334.516695</td>\n",
              "      <td>12302.274508</td>\n",
              "      <td>1320.798326</td>\n",
              "      <td>1327.189410</td>\n",
              "      <td>...</td>\n",
              "      <td>1537.312795</td>\n",
              "      <td>1523.978499</td>\n",
              "      <td>-2.573123</td>\n",
              "      <td>0.124513</td>\n",
              "      <td>0.010150</td>\n",
              "      <td>0.006589</td>\n",
              "      <td>190.652124</td>\n",
              "      <td>179.661233</td>\n",
              "      <td>1161.031965</td>\n",
              "      <td>NaN</td>\n",
              "    </tr>\n",
              "    <tr>\n",
              "      <th>std</th>\n",
              "      <td>0.0</td>\n",
              "      <td>1.090701</td>\n",
              "      <td>3.354678</td>\n",
              "      <td>8.782056</td>\n",
              "      <td>1.995257</td>\n",
              "      <td>811.875227</td>\n",
              "      <td>1595.026510</td>\n",
              "      <td>1601.988550</td>\n",
              "      <td>490.737845</td>\n",
              "      <td>500.306462</td>\n",
              "      <td>...</td>\n",
              "      <td>502.512494</td>\n",
              "      <td>512.536041</td>\n",
              "      <td>39.232521</td>\n",
              "      <td>0.330181</td>\n",
              "      <td>0.100241</td>\n",
              "      <td>0.080908</td>\n",
              "      <td>78.386317</td>\n",
              "      <td>77.940399</td>\n",
              "      <td>643.683379</td>\n",
              "      <td>NaN</td>\n",
              "    </tr>\n",
              "    <tr>\n",
              "      <th>min</th>\n",
              "      <td>2016.0</td>\n",
              "      <td>1.000000</td>\n",
              "      <td>1.000000</td>\n",
              "      <td>1.000000</td>\n",
              "      <td>1.000000</td>\n",
              "      <td>7.000000</td>\n",
              "      <td>10397.000000</td>\n",
              "      <td>10397.000000</td>\n",
              "      <td>10.000000</td>\n",
              "      <td>1.000000</td>\n",
              "      <td>...</td>\n",
              "      <td>2.000000</td>\n",
              "      <td>1.000000</td>\n",
              "      <td>-67.000000</td>\n",
              "      <td>0.000000</td>\n",
              "      <td>0.000000</td>\n",
              "      <td>0.000000</td>\n",
              "      <td>93.000000</td>\n",
              "      <td>75.000000</td>\n",
              "      <td>509.000000</td>\n",
              "      <td>NaN</td>\n",
              "    </tr>\n",
              "    <tr>\n",
              "      <th>25%</th>\n",
              "      <td>2016.0</td>\n",
              "      <td>2.000000</td>\n",
              "      <td>4.000000</td>\n",
              "      <td>8.000000</td>\n",
              "      <td>2.000000</td>\n",
              "      <td>624.000000</td>\n",
              "      <td>10397.000000</td>\n",
              "      <td>10397.000000</td>\n",
              "      <td>905.000000</td>\n",
              "      <td>905.000000</td>\n",
              "      <td>...</td>\n",
              "      <td>1130.000000</td>\n",
              "      <td>1135.000000</td>\n",
              "      <td>-19.000000</td>\n",
              "      <td>0.000000</td>\n",
              "      <td>0.000000</td>\n",
              "      <td>0.000000</td>\n",
              "      <td>127.000000</td>\n",
              "      <td>117.000000</td>\n",
              "      <td>594.000000</td>\n",
              "      <td>NaN</td>\n",
              "    </tr>\n",
              "    <tr>\n",
              "      <th>50%</th>\n",
              "      <td>2016.0</td>\n",
              "      <td>3.000000</td>\n",
              "      <td>7.000000</td>\n",
              "      <td>16.000000</td>\n",
              "      <td>4.000000</td>\n",
              "      <td>1267.000000</td>\n",
              "      <td>12478.000000</td>\n",
              "      <td>12478.000000</td>\n",
              "      <td>1320.000000</td>\n",
              "      <td>1324.000000</td>\n",
              "      <td>...</td>\n",
              "      <td>1559.000000</td>\n",
              "      <td>1547.000000</td>\n",
              "      <td>-10.000000</td>\n",
              "      <td>0.000000</td>\n",
              "      <td>0.000000</td>\n",
              "      <td>0.000000</td>\n",
              "      <td>159.000000</td>\n",
              "      <td>149.000000</td>\n",
              "      <td>907.000000</td>\n",
              "      <td>NaN</td>\n",
              "    </tr>\n",
              "    <tr>\n",
              "      <th>75%</th>\n",
              "      <td>2016.0</td>\n",
              "      <td>3.000000</td>\n",
              "      <td>9.000000</td>\n",
              "      <td>23.000000</td>\n",
              "      <td>6.000000</td>\n",
              "      <td>2032.000000</td>\n",
              "      <td>13487.000000</td>\n",
              "      <td>13487.000000</td>\n",
              "      <td>1735.000000</td>\n",
              "      <td>1739.000000</td>\n",
              "      <td>...</td>\n",
              "      <td>1952.000000</td>\n",
              "      <td>1945.000000</td>\n",
              "      <td>1.000000</td>\n",
              "      <td>0.000000</td>\n",
              "      <td>0.000000</td>\n",
              "      <td>0.000000</td>\n",
              "      <td>255.000000</td>\n",
              "      <td>236.000000</td>\n",
              "      <td>1927.000000</td>\n",
              "      <td>NaN</td>\n",
              "    </tr>\n",
              "    <tr>\n",
              "      <th>max</th>\n",
              "      <td>2016.0</td>\n",
              "      <td>4.000000</td>\n",
              "      <td>12.000000</td>\n",
              "      <td>31.000000</td>\n",
              "      <td>7.000000</td>\n",
              "      <td>2853.000000</td>\n",
              "      <td>14747.000000</td>\n",
              "      <td>14747.000000</td>\n",
              "      <td>2359.000000</td>\n",
              "      <td>2400.000000</td>\n",
              "      <td>...</td>\n",
              "      <td>2359.000000</td>\n",
              "      <td>2400.000000</td>\n",
              "      <td>615.000000</td>\n",
              "      <td>1.000000</td>\n",
              "      <td>1.000000</td>\n",
              "      <td>1.000000</td>\n",
              "      <td>397.000000</td>\n",
              "      <td>428.000000</td>\n",
              "      <td>2422.000000</td>\n",
              "      <td>NaN</td>\n",
              "    </tr>\n",
              "  </tbody>\n",
              "</table>\n",
              "<p>8 rows × 22 columns</p>\n",
              "</div>\n",
              "      <button class=\"colab-df-convert\" onclick=\"convertToInteractive('df-85b7fc21-e0c4-4276-a4f3-3e608689a65b')\"\n",
              "              title=\"Convert this dataframe to an interactive table.\"\n",
              "              style=\"display:none;\">\n",
              "        \n",
              "  <svg xmlns=\"http://www.w3.org/2000/svg\" height=\"24px\"viewBox=\"0 0 24 24\"\n",
              "       width=\"24px\">\n",
              "    <path d=\"M0 0h24v24H0V0z\" fill=\"none\"/>\n",
              "    <path d=\"M18.56 5.44l.94 2.06.94-2.06 2.06-.94-2.06-.94-.94-2.06-.94 2.06-2.06.94zm-11 1L8.5 8.5l.94-2.06 2.06-.94-2.06-.94L8.5 2.5l-.94 2.06-2.06.94zm10 10l.94 2.06.94-2.06 2.06-.94-2.06-.94-.94-2.06-.94 2.06-2.06.94z\"/><path d=\"M17.41 7.96l-1.37-1.37c-.4-.4-.92-.59-1.43-.59-.52 0-1.04.2-1.43.59L10.3 9.45l-7.72 7.72c-.78.78-.78 2.05 0 2.83L4 21.41c.39.39.9.59 1.41.59.51 0 1.02-.2 1.41-.59l7.78-7.78 2.81-2.81c.8-.78.8-2.07 0-2.86zM5.41 20L4 18.59l7.72-7.72 1.47 1.35L5.41 20z\"/>\n",
              "  </svg>\n",
              "      </button>\n",
              "      \n",
              "  <style>\n",
              "    .colab-df-container {\n",
              "      display:flex;\n",
              "      flex-wrap:wrap;\n",
              "      gap: 12px;\n",
              "    }\n",
              "\n",
              "    .colab-df-convert {\n",
              "      background-color: #E8F0FE;\n",
              "      border: none;\n",
              "      border-radius: 50%;\n",
              "      cursor: pointer;\n",
              "      display: none;\n",
              "      fill: #1967D2;\n",
              "      height: 32px;\n",
              "      padding: 0 0 0 0;\n",
              "      width: 32px;\n",
              "    }\n",
              "\n",
              "    .colab-df-convert:hover {\n",
              "      background-color: #E2EBFA;\n",
              "      box-shadow: 0px 1px 2px rgba(60, 64, 67, 0.3), 0px 1px 3px 1px rgba(60, 64, 67, 0.15);\n",
              "      fill: #174EA6;\n",
              "    }\n",
              "\n",
              "    [theme=dark] .colab-df-convert {\n",
              "      background-color: #3B4455;\n",
              "      fill: #D2E3FC;\n",
              "    }\n",
              "\n",
              "    [theme=dark] .colab-df-convert:hover {\n",
              "      background-color: #434B5C;\n",
              "      box-shadow: 0px 1px 3px 1px rgba(0, 0, 0, 0.15);\n",
              "      filter: drop-shadow(0px 1px 2px rgba(0, 0, 0, 0.3));\n",
              "      fill: #FFFFFF;\n",
              "    }\n",
              "  </style>\n",
              "\n",
              "      <script>\n",
              "        const buttonEl =\n",
              "          document.querySelector('#df-85b7fc21-e0c4-4276-a4f3-3e608689a65b button.colab-df-convert');\n",
              "        buttonEl.style.display =\n",
              "          google.colab.kernel.accessAllowed ? 'block' : 'none';\n",
              "\n",
              "        async function convertToInteractive(key) {\n",
              "          const element = document.querySelector('#df-85b7fc21-e0c4-4276-a4f3-3e608689a65b');\n",
              "          const dataTable =\n",
              "            await google.colab.kernel.invokeFunction('convertToInteractive',\n",
              "                                                     [key], {});\n",
              "          if (!dataTable) return;\n",
              "\n",
              "          const docLinkHtml = 'Like what you see? Visit the ' +\n",
              "            '<a target=\"_blank\" href=https://colab.research.google.com/notebooks/data_table.ipynb>data table notebook</a>'\n",
              "            + ' to learn more about interactive tables.';\n",
              "          element.innerHTML = '';\n",
              "          dataTable['output_type'] = 'display_data';\n",
              "          await google.colab.output.renderOutput(dataTable, element);\n",
              "          const docLink = document.createElement('div');\n",
              "          docLink.innerHTML = docLinkHtml;\n",
              "          element.appendChild(docLink);\n",
              "        }\n",
              "      </script>\n",
              "    </div>\n",
              "  </div>\n",
              "  "
            ]
          },
          "metadata": {},
          "execution_count": 92
        }
      ]
    },
    {
      "cell_type": "markdown",
      "source": [
        "Handling Missing Values"
      ],
      "metadata": {
        "id": "klJ4ofiRQoxz"
      }
    },
    {
      "cell_type": "code",
      "source": [
        "df.isnull().sum()"
      ],
      "metadata": {
        "colab": {
          "base_uri": "https://localhost:8080/"
        },
        "id": "-IlQUV1MQByN",
        "outputId": "6628cd1d-5c74-43da-8bcf-906334f48c78"
      },
      "execution_count": 93,
      "outputs": [
        {
          "output_type": "execute_result",
          "data": {
            "text/plain": [
              "YEAR                       0\n",
              "QUARTER                    0\n",
              "MONTH                      0\n",
              "DAY_OF_MONTH               0\n",
              "DAY_OF_WEEK                0\n",
              "UNIQUE_CARRIER             0\n",
              "TAIL_NUM                   0\n",
              "FL_NUM                     0\n",
              "ORIGIN_AIRPORT_ID          0\n",
              "ORIGIN                     0\n",
              "DEST_AIRPORT_ID            0\n",
              "DEST                       0\n",
              "CRS_DEP_TIME               0\n",
              "DEP_TIME                 107\n",
              "DEP_DELAY                107\n",
              "DEP_DEL15                107\n",
              "CRS_ARR_TIME               0\n",
              "ARR_TIME                 115\n",
              "ARR_DELAY                188\n",
              "ARR_DEL15                188\n",
              "CANCELLED                  0\n",
              "DIVERTED                   0\n",
              "CRS_ELAPSED_TIME           0\n",
              "ACTUAL_ELAPSED_TIME      188\n",
              "DISTANCE                   0\n",
              "Unnamed: 25            11231\n",
              "dtype: int64"
            ]
          },
          "metadata": {},
          "execution_count": 93
        }
      ]
    },
    {
      "cell_type": "code",
      "source": [
        "df=df.fillna(df.mean())"
      ],
      "metadata": {
        "colab": {
          "base_uri": "https://localhost:8080/"
        },
        "id": "AXGs-KhUuTMm",
        "outputId": "ed82e526-b5f6-4d4a-99f9-3ad8e7e92254"
      },
      "execution_count": 94,
      "outputs": [
        {
          "output_type": "stream",
          "name": "stderr",
          "text": [
            "/usr/local/lib/python3.7/dist-packages/ipykernel_launcher.py:1: FutureWarning: Dropping of nuisance columns in DataFrame reductions (with 'numeric_only=None') is deprecated; in a future version this will raise TypeError.  Select only valid columns before calling the reduction.\n",
            "  \"\"\"Entry point for launching an IPython kernel.\n"
          ]
        }
      ]
    },
    {
      "cell_type": "markdown",
      "source": [
        "Data Visualization "
      ],
      "metadata": {
        "id": "yTC-tk6vRaq8"
      }
    },
    {
      "cell_type": "code",
      "source": [
        "plt.scatter(df['ARR_DELAY'],df['ARR_DEL15'])\n",
        "plt.title(\"Scatter plot\")"
      ],
      "metadata": {
        "colab": {
          "base_uri": "https://localhost:8080/",
          "height": 298
        },
        "id": "MAuMb3MTSVJ_",
        "outputId": "b26df199-dd49-45d3-cb8c-64a67f1b0afa"
      },
      "execution_count": 95,
      "outputs": [
        {
          "output_type": "execute_result",
          "data": {
            "text/plain": [
              "Text(0.5, 1.0, 'Scatter plot')"
            ]
          },
          "metadata": {},
          "execution_count": 95
        },
        {
          "output_type": "display_data",
          "data": {
            "text/plain": [
              "<Figure size 432x288 with 1 Axes>"
            ],
            "image/png": "[encoded data removed]"
          },
          "metadata": {
            "needs_background": "light"
          }
        }
      ]
    },
    {
      "cell_type": "code",
      "source": [
        "plt.bar(df['ARR_DELAY'],df['ARR_DEL15'])\n",
        "plt.title(\"Bar Chart\")"
      ],
      "metadata": {
        "id": "z1hneDUxSsa7",
        "colab": {
          "base_uri": "https://localhost:8080/",
          "height": 298
        },
        "outputId": "c252ef5c-fa72-450a-9ecb-90ea54b1f2fc"
      },
      "execution_count": 96,
      "outputs": [
        {
          "output_type": "execute_result",
          "data": {
            "text/plain": [
              "Text(0.5, 1.0, 'Bar Chart')"
            ]
          },
          "metadata": {},
          "execution_count": 96
        },
        {
          "output_type": "display_data",
          "data": {
            "text/plain": [
              "<Figure size 432x288 with 1 Axes>"
            ],
            "image/png": "[encoded data removed]"
          },
          "metadata": {
            "needs_background": "light"
          }
        }
      ]
    },
    {
      "cell_type": "code",
      "source": [
        "plt.hist(df['ARR_DEL15'])\n",
        "plt.title(\"Histogram\")"
      ],
      "metadata": {
        "colab": {
          "base_uri": "https://localhost:8080/",
          "height": 298
        },
        "id": "-PuAoUUmWE8O",
        "outputId": "8622992c-7cff-4837-c82f-bd5f037e9bd9"
      },
      "execution_count": 97,
      "outputs": [
        {
          "output_type": "execute_result",
          "data": {
            "text/plain": [
              "Text(0.5, 1.0, 'Histogram')"
            ]
          },
          "metadata": {},
          "execution_count": 97
        },
        {
          "output_type": "display_data",
          "data": {
            "text/plain": [
              "<Figure size 432x288 with 1 Axes>"
            ],
            "image/png": "[encoded data removed]"
          },
          "metadata": {
            "needs_background": "light"
          }
        }
      ]
    },
    {
      "cell_type": "code",
      "source": [
        "sns.scatterplot(df['ARR_DELAY'],df['ARR_DEL15'])"
      ],
      "metadata": {
        "colab": {
          "base_uri": "https://localhost:8080/",
          "height": 352
        },
        "id": "EdxvPqDpX5Mw",
        "outputId": "c1f38ed9-16a7-49cf-fa89-046dd4d03bac"
      },
      "execution_count": 98,
      "outputs": [
        {
          "output_type": "stream",
          "name": "stderr",
          "text": [
            "/usr/local/lib/python3.7/dist-packages/seaborn/_decorators.py:43: FutureWarning: Pass the following variables as keyword args: x, y. From version 0.12, the only valid positional argument will be `data`, and passing other arguments without an explicit keyword will result in an error or misinterpretation.\n",
            "  FutureWarning\n"
          ]
        },
        {
          "output_type": "execute_result",
          "data": {
            "text/plain": [
              "<matplotlib.axes._subplots.AxesSubplot at 0x7f05dfed3910>"
            ]
          },
          "metadata": {},
          "execution_count": 98
        },
        {
          "output_type": "display_data",
          "data": {
            "text/plain": [
              "<Figure size 432x288 with 1 Axes>"
            ],
            "image/png": "[encoded data removed]"
          },
          "metadata": {
            "needs_background": "light"
          }
        }
      ]
    },
    {
      "cell_type": "code",
      "source": [
        "sns.lineplot(df['ARR_DELAY'],df['ARR_DEL15'])"
      ],
      "metadata": {
        "colab": {
          "base_uri": "https://localhost:8080/",
          "height": 352
        },
        "id": "ACnBwUdzYaoq",
        "outputId": "1112761c-1e34-400c-944b-daf3d223c2fe"
      },
      "execution_count": 99,
      "outputs": [
        {
          "output_type": "stream",
          "name": "stderr",
          "text": [
            "/usr/local/lib/python3.7/dist-packages/seaborn/_decorators.py:43: FutureWarning: Pass the following variables as keyword args: x, y. From version 0.12, the only valid positional argument will be `data`, and passing other arguments without an explicit keyword will result in an error or misinterpretation.\n",
            "  FutureWarning\n"
          ]
        },
        {
          "output_type": "execute_result",
          "data": {
            "text/plain": [
              "<matplotlib.axes._subplots.AxesSubplot at 0x7f05df975450>"
            ]
          },
          "metadata": {},
          "execution_count": 99
        },
        {
          "output_type": "display_data",
          "data": {
            "text/plain": [
              "<Figure size 432x288 with 1 Axes>"
            ],
            "image/png": "[encoded data removed]"
          },
          "metadata": {
            "needs_background": "light"
          }
        }
      ]
    },
    {
      "cell_type": "code",
      "source": [
        "sns.barplot(df['ARR_DELAY'],df['ARR_DEL15'])"
      ],
      "metadata": {
        "colab": {
          "base_uri": "https://localhost:8080/",
          "height": 352
        },
        "id": "63hdgXlCY1od",
        "outputId": "f53e036d-2489-483b-f761-d14bc5415496"
      },
      "execution_count": 100,
      "outputs": [
        {
          "output_type": "stream",
          "name": "stderr",
          "text": [
            "/usr/local/lib/python3.7/dist-packages/seaborn/_decorators.py:43: FutureWarning: Pass the following variables as keyword args: x, y. From version 0.12, the only valid positional argument will be `data`, and passing other arguments without an explicit keyword will result in an error or misinterpretation.\n",
            "  FutureWarning\n"
          ]
        },
        {
          "output_type": "execute_result",
          "data": {
            "text/plain": [
              "<matplotlib.axes._subplots.AxesSubplot at 0x7f05df281510>"
            ]
          },
          "metadata": {},
          "execution_count": 100
        },
        {
          "output_type": "display_data",
          "data": {
            "text/plain": [
              "<Figure size 432x288 with 1 Axes>"
            ],
            "image/png": "[encoded data removed]"
          },
          "metadata": {
            "needs_background": "light"
          }
        }
      ]
    },
    {
      "cell_type": "code",
      "source": [
        "sns.histplot(df['ARR_DEL15'])"
      ],
      "metadata": {
        "colab": {
          "base_uri": "https://localhost:8080/",
          "height": 298
        },
        "id": "DrhawerVZJBo",
        "outputId": "028ea9d5-d296-4d95-a6d9-13eb021bb832"
      },
      "execution_count": 101,
      "outputs": [
        {
          "output_type": "execute_result",
          "data": {
            "text/plain": [
              "<matplotlib.axes._subplots.AxesSubplot at 0x7f05de78c650>"
            ]
          },
          "metadata": {},
          "execution_count": 101
        },
        {
          "output_type": "display_data",
          "data": {
            "text/plain": [
              "<Figure size 432x288 with 1 Axes>"
            ],
            "image/png": "[encoded data removed]"
          },
          "metadata": {
            "needs_background": "light"
          }
        }
      ]
    },
    {
      "cell_type": "markdown",
      "source": [
        "Droping Unnecessary Columns"
      ],
      "metadata": {
        "id": "s0lqsuLhdzXA"
      }
    },
    {
      "cell_type": "code",
      "source": [
        "X=df.drop(['YEAR','QUARTER','DAY_OF_WEEK','UNIQUE_CARRIER','DEP_DEL15','DEP_DELAY','ARR_TIME','ARR_DELAY','ARR_DEL15','CANCELLED','DIVERTED','CRS_ELAPSED_TIME','ACTUAL_ELAPSED_TIME','DISTANCE','Unnamed: 25','ORIGIN','DEST','TAIL_NUM'],axis='columns').astype(int)\n",
        "y=df['ARR_DEL15'].astype(int)"
      ],
      "metadata": {
        "id": "eHMe402EZS0D"
      },
      "execution_count": 102,
      "outputs": []
    },
    {
      "cell_type": "code",
      "source": [
        "#X[['DEP_TIME']]=X[['DEP_TIME']].fillna(X[['DEP_TIME']].mean())"
      ],
      "metadata": {
        "id": "ws4-dlMQehVn"
      },
      "execution_count": 103,
      "outputs": []
    },
    {
      "cell_type": "code",
      "source": [
        "#X[['DEP_TIME']]=X[['DEP_TIME']].astype(int)"
      ],
      "metadata": {
        "id": "I59ADmSG047e"
      },
      "execution_count": 104,
      "outputs": []
    },
    {
      "cell_type": "code",
      "source": [
        "X"
      ],
      "metadata": {
        "colab": {
          "base_uri": "https://localhost:8080/",
          "height": 424
        },
        "id": "4OXvCsFz168b",
        "outputId": "656669d9-352b-4c85-cf3d-224b17adc954"
      },
      "execution_count": 105,
      "outputs": [
        {
          "output_type": "execute_result",
          "data": {
            "text/plain": [
              "       MONTH  DAY_OF_MONTH  FL_NUM  ORIGIN_AIRPORT_ID  DEST_AIRPORT_ID  \\\n",
              "0          1             1    1399              10397            14747   \n",
              "1          1             1    1476              11433            13487   \n",
              "2          1             1    1597              10397            14747   \n",
              "3          1             1    1768              14747            13487   \n",
              "4          1             1    1823              14747            11433   \n",
              "...      ...           ...     ...                ...              ...   \n",
              "11226     12            30    1715              11433            10397   \n",
              "11227     12            30    1770              14747            13487   \n",
              "11228     12            30    1823              11433            14747   \n",
              "11229     12            30    1901              10397            14747   \n",
              "11230     12            30    2005              10397            11433   \n",
              "\n",
              "       CRS_DEP_TIME  DEP_TIME  CRS_ARR_TIME  \n",
              "0              1905      1907          2143  \n",
              "1              1345      1344          1435  \n",
              "2               940       942          1215  \n",
              "3               819       820          1335  \n",
              "4              2300      2256           607  \n",
              "...             ...       ...           ...  \n",
              "11226          1005      1003          1223  \n",
              "11227          1525      1559          2046  \n",
              "11228          1959      1959          2210  \n",
              "11229          1530      1529          1806  \n",
              "11230           725       723           925  \n",
              "\n",
              "[11231 rows x 8 columns]"
            ],
            "text/html": [
              "\n",
              "  <div id=\"df-c2d0868b-4bc7-4e96-a32e-8e81c2b451f4\">\n",
              "    <div class=\"colab-df-container\">\n",
              "      <div>\n",
              "<style scoped>\n",
              "    .dataframe tbody tr th:only-of-type {\n",
              "        vertical-align: middle;\n",
              "    }\n",
              "\n",
              "    .dataframe tbody tr th {\n",
              "        vertical-align: top;\n",
              "    }\n",
              "\n",
              "    .dataframe thead th {\n",
              "        text-align: right;\n",
              "    }\n",
              "</style>\n",
              "<table border=\"1\" class=\"dataframe\">\n",
              "  <thead>\n",
              "    <tr style=\"text-align: right;\">\n",
              "      <th></th>\n",
              "      <th>MONTH</th>\n",
              "      <th>DAY_OF_MONTH</th>\n",
              "      <th>FL_NUM</th>\n",
              "      <th>ORIGIN_AIRPORT_ID</th>\n",
              "      <th>DEST_AIRPORT_ID</th>\n",
              "      <th>CRS_DEP_TIME</th>\n",
              "      <th>DEP_TIME</th>\n",
              "      <th>CRS_ARR_TIME</th>\n",
              "    </tr>\n",
              "  </thead>\n",
              "  <tbody>\n",
              "    <tr>\n",
              "      <th>0</th>\n",
              "      <td>1</td>\n",
              "      <td>1</td>\n",
              "      <td>1399</td>\n",
              "      <td>10397</td>\n",
              "      <td>14747</td>\n",
              "      <td>1905</td>\n",
              "      <td>1907</td>\n",
              "      <td>2143</td>\n",
              "    </tr>\n",
              "    <tr>\n",
              "      <th>1</th>\n",
              "      <td>1</td>\n",
              "      <td>1</td>\n",
              "      <td>1476</td>\n",
              "      <td>11433</td>\n",
              "      <td>13487</td>\n",
              "      <td>1345</td>\n",
              "      <td>1344</td>\n",
              "      <td>1435</td>\n",
              "    </tr>\n",
              "    <tr>\n",
              "      <th>2</th>\n",
              "      <td>1</td>\n",
              "      <td>1</td>\n",
              "      <td>1597</td>\n",
              "      <td>10397</td>\n",
              "      <td>14747</td>\n",
              "      <td>940</td>\n",
              "      <td>942</td>\n",
              "      <td>1215</td>\n",
              "    </tr>\n",
              "    <tr>\n",
              "      <th>3</th>\n",
              "      <td>1</td>\n",
              "      <td>1</td>\n",
              "      <td>1768</td>\n",
              "      <td>14747</td>\n",
              "      <td>13487</td>\n",
              "      <td>819</td>\n",
              "      <td>820</td>\n",
              "      <td>1335</td>\n",
              "    </tr>\n",
              "    <tr>\n",
              "      <th>4</th>\n",
              "      <td>1</td>\n",
              "      <td>1</td>\n",
              "      <td>1823</td>\n",
              "      <td>14747</td>\n",
              "      <td>11433</td>\n",
              "      <td>2300</td>\n",
              "      <td>2256</td>\n",
              "      <td>607</td>\n",
              "    </tr>\n",
              "    <tr>\n",
              "      <th>...</th>\n",
              "      <td>...</td>\n",
              "      <td>...</td>\n",
              "      <td>...</td>\n",
              "      <td>...</td>\n",
              "      <td>...</td>\n",
              "      <td>...</td>\n",
              "      <td>...</td>\n",
              "      <td>...</td>\n",
              "    </tr>\n",
              "    <tr>\n",
              "      <th>11226</th>\n",
              "      <td>12</td>\n",
              "      <td>30</td>\n",
              "      <td>1715</td>\n",
              "      <td>11433</td>\n",
              "      <td>10397</td>\n",
              "      <td>1005</td>\n",
              "      <td>1003</td>\n",
              "      <td>1223</td>\n",
              "    </tr>\n",
              "    <tr>\n",
              "      <th>11227</th>\n",
              "      <td>12</td>\n",
              "      <td>30</td>\n",
              "      <td>1770</td>\n",
              "      <td>14747</td>\n",
              "      <td>13487</td>\n",
              "      <td>1525</td>\n",
              "      <td>1559</td>\n",
              "      <td>2046</td>\n",
              "    </tr>\n",
              "    <tr>\n",
              "      <th>11228</th>\n",
              "      <td>12</td>\n",
              "      <td>30</td>\n",
              "      <td>1823</td>\n",
              "      <td>11433</td>\n",
              "      <td>14747</td>\n",
              "      <td>1959</td>\n",
              "      <td>1959</td>\n",
              "      <td>2210</td>\n",
              "    </tr>\n",
              "    <tr>\n",
              "      <th>11229</th>\n",
              "      <td>12</td>\n",
              "      <td>30</td>\n",
              "      <td>1901</td>\n",
              "      <td>10397</td>\n",
              "      <td>14747</td>\n",
              "      <td>1530</td>\n",
              "      <td>1529</td>\n",
              "      <td>1806</td>\n",
              "    </tr>\n",
              "    <tr>\n",
              "      <th>11230</th>\n",
              "      <td>12</td>\n",
              "      <td>30</td>\n",
              "      <td>2005</td>\n",
              "      <td>10397</td>\n",
              "      <td>11433</td>\n",
              "      <td>725</td>\n",
              "      <td>723</td>\n",
              "      <td>925</td>\n",
              "    </tr>\n",
              "  </tbody>\n",
              "</table>\n",
              "<p>11231 rows × 8 columns</p>\n",
              "</div>\n",
              "      <button class=\"colab-df-convert\" onclick=\"convertToInteractive('df-c2d0868b-4bc7-4e96-a32e-8e81c2b451f4')\"\n",
              "              title=\"Convert this dataframe to an interactive table.\"\n",
              "              style=\"display:none;\">\n",
              "        \n",
              "  <svg xmlns=\"http://www.w3.org/2000/svg\" height=\"24px\"viewBox=\"0 0 24 24\"\n",
              "       width=\"24px\">\n",
              "    <path d=\"M0 0h24v24H0V0z\" fill=\"none\"/>\n",
              "    <path d=\"M18.56 5.44l.94 2.06.94-2.06 2.06-.94-2.06-.94-.94-2.06-.94 2.06-2.06.94zm-11 1L8.5 8.5l.94-2.06 2.06-.94-2.06-.94L8.5 2.5l-.94 2.06-2.06.94zm10 10l.94 2.06.94-2.06 2.06-.94-2.06-.94-.94-2.06-.94 2.06-2.06.94z\"/><path d=\"M17.41 7.96l-1.37-1.37c-.4-.4-.92-.59-1.43-.59-.52 0-1.04.2-1.43.59L10.3 9.45l-7.72 7.72c-.78.78-.78 2.05 0 2.83L4 21.41c.39.39.9.59 1.41.59.51 0 1.02-.2 1.41-.59l7.78-7.78 2.81-2.81c.8-.78.8-2.07 0-2.86zM5.41 20L4 18.59l7.72-7.72 1.47 1.35L5.41 20z\"/>\n",
              "  </svg>\n",
              "      </button>\n",
              "      \n",
              "  <style>\n",
              "    .colab-df-container {\n",
              "      display:flex;\n",
              "      flex-wrap:wrap;\n",
              "      gap: 12px;\n",
              "    }\n",
              "\n",
              "    .colab-df-convert {\n",
              "      background-color: #E8F0FE;\n",
              "      border: none;\n",
              "      border-radius: 50%;\n",
              "      cursor: pointer;\n",
              "      display: none;\n",
              "      fill: #1967D2;\n",
              "      height: 32px;\n",
              "      padding: 0 0 0 0;\n",
              "      width: 32px;\n",
              "    }\n",
              "\n",
              "    .colab-df-convert:hover {\n",
              "      background-color: #E2EBFA;\n",
              "      box-shadow: 0px 1px 2px rgba(60, 64, 67, 0.3), 0px 1px 3px 1px rgba(60, 64, 67, 0.15);\n",
              "      fill: #174EA6;\n",
              "    }\n",
              "\n",
              "    [theme=dark] .colab-df-convert {\n",
              "      background-color: #3B4455;\n",
              "      fill: #D2E3FC;\n",
              "    }\n",
              "\n",
              "    [theme=dark] .colab-df-convert:hover {\n",
              "      background-color: #434B5C;\n",
              "      box-shadow: 0px 1px 3px 1px rgba(0, 0, 0, 0.15);\n",
              "      filter: drop-shadow(0px 1px 2px rgba(0, 0, 0, 0.3));\n",
              "      fill: #FFFFFF;\n",
              "    }\n",
              "  </style>\n",
              "\n",
              "      <script>\n",
              "        const buttonEl =\n",
              "          document.querySelector('#df-c2d0868b-4bc7-4e96-a32e-8e81c2b451f4 button.colab-df-convert');\n",
              "        buttonEl.style.display =\n",
              "          google.colab.kernel.accessAllowed ? 'block' : 'none';\n",
              "\n",
              "        async function convertToInteractive(key) {\n",
              "          const element = document.querySelector('#df-c2d0868b-4bc7-4e96-a32e-8e81c2b451f4');\n",
              "          const dataTable =\n",
              "            await google.colab.kernel.invokeFunction('convertToInteractive',\n",
              "                                                     [key], {});\n",
              "          if (!dataTable) return;\n",
              "\n",
              "          const docLinkHtml = 'Like what you see? Visit the ' +\n",
              "            '<a target=\"_blank\" href=https://colab.research.google.com/notebooks/data_table.ipynb>data table notebook</a>'\n",
              "            + ' to learn more about interactive tables.';\n",
              "          element.innerHTML = '';\n",
              "          dataTable['output_type'] = 'display_data';\n",
              "          await google.colab.output.renderOutput(dataTable, element);\n",
              "          const docLink = document.createElement('div');\n",
              "          docLink.innerHTML = docLinkHtml;\n",
              "          element.appendChild(docLink);\n",
              "        }\n",
              "      </script>\n",
              "    </div>\n",
              "  </div>\n",
              "  "
            ]
          },
          "metadata": {},
          "execution_count": 105
        }
      ]
    },
    {
      "cell_type": "code",
      "source": [
        "y"
      ],
      "metadata": {
        "colab": {
          "base_uri": "https://localhost:8080/"
        },
        "id": "e7B8K-dSe2i4",
        "outputId": "e1a27d59-b9bc-44df-84d4-fe8834f351cc"
      },
      "execution_count": 106,
      "outputs": [
        {
          "output_type": "execute_result",
          "data": {
            "text/plain": [
              "0        0\n",
              "1        0\n",
              "2        0\n",
              "3        0\n",
              "4        0\n",
              "        ..\n",
              "11226    0\n",
              "11227    0\n",
              "11228    0\n",
              "11229    0\n",
              "11230    0\n",
              "Name: ARR_DEL15, Length: 11231, dtype: int64"
            ]
          },
          "metadata": {},
          "execution_count": 106
        }
      ]
    },
    {
      "cell_type": "code",
      "source": [
        "#y=y.fillna(y.mean())"
      ],
      "metadata": {
        "id": "phl2irAr0OMP"
      },
      "execution_count": 107,
      "outputs": []
    },
    {
      "cell_type": "code",
      "source": [
        "#y=y.astype(int)"
      ],
      "metadata": {
        "id": "ozzBKabS0YMr"
      },
      "execution_count": 108,
      "outputs": []
    },
    {
      "cell_type": "code",
      "source": [
        "#y"
      ],
      "metadata": {
        "id": "2vpHlOYg0iE_"
      },
      "execution_count": 109,
      "outputs": []
    },
    {
      "cell_type": "markdown",
      "source": [
        "Label Encoder"
      ],
      "metadata": {
        "id": "e8glxew5fpu3"
      }
    },
    {
      "cell_type": "code",
      "source": [
        "labelencoder_X=LabelEncoder()\n",
        "X=X.apply(LabelEncoder().fit_transform)"
      ],
      "metadata": {
        "id": "7hL7i6LHsIlc"
      },
      "execution_count": 110,
      "outputs": []
    },
    {
      "cell_type": "code",
      "source": [
        "X.head(40)"
      ],
      "metadata": {
        "colab": {
          "base_uri": "https://localhost:8080/",
          "height": 1000
        },
        "id": "W-WAK4ktsqbZ",
        "outputId": "ee4ecdeb-f0a4-4e2a-a91d-7072cc696aea"
      },
      "execution_count": 111,
      "outputs": [
        {
          "output_type": "execute_result",
          "data": {
            "text/plain": [
              "    MONTH  DAY_OF_MONTH  FL_NUM  ORIGIN_AIRPORT_ID  DEST_AIRPORT_ID  \\\n",
              "0       0             0     335                  0                4   \n",
              "1       0             0     361                  1                3   \n",
              "2       0             0     392                  0                4   \n",
              "3       0             0     429                  4                3   \n",
              "4       0             0     441                  4                1   \n",
              "5       0             0     469                  3                0   \n",
              "6       0             1     496                  0                3   \n",
              "7       0             1     509                  3                4   \n",
              "8       0             1     525                  3                4   \n",
              "9       0             1     540                  3                0   \n",
              "10      0             1     560                  0                2   \n",
              "11      0             1     580                  0                4   \n",
              "12      0             1     619                  0                3   \n",
              "13      0             1     670                  1                4   \n",
              "14      0             1     683                  1                0   \n",
              "15      0             2      12                  3                1   \n",
              "16      0             2      56                  2                0   \n",
              "17      0             1     441                  1                4   \n",
              "18      0             1     468                  4                2   \n",
              "19      0             1     477                  0                1   \n",
              "20      0             1     486                  0                4   \n",
              "21      0             2     225                  0                1   \n",
              "22      0             2     256                  3                1   \n",
              "23      0             2     273                  3                0   \n",
              "24      0             2     296                  0                1   \n",
              "25      0             2     312                  4                0   \n",
              "26      0             2     334                  3                4   \n",
              "27      0             2     347                  1                0   \n",
              "28      0             2     364                  3                0   \n",
              "29      0             2     383                  4                0   \n",
              "30      0             2     404                  0                4   \n",
              "31      0             2     423                  3                1   \n",
              "32      0             3     387                  1                0   \n",
              "33      0             3     416                  1                4   \n",
              "34      0             3     430                  4                3   \n",
              "35      0             1     254                  0                1   \n",
              "36      0             1     271                  0                3   \n",
              "37      0             2     430                  4                3   \n",
              "38      0             2     444                  1                0   \n",
              "39      0             2     469                  3                0   \n",
              "\n",
              "    CRS_DEP_TIME  DEP_TIME  CRS_ARR_TIME  \n",
              "0            423       890           836  \n",
              "1            250       570           450  \n",
              "2            131       329           314  \n",
              "3             82       247           390  \n",
              "4            532      1113            47  \n",
              "5            191       434           471  \n",
              "6            390       809           709  \n",
              "7            386       815           707  \n",
              "8            181       422           361  \n",
              "9            275       627           621  \n",
              "10            86       255           239  \n",
              "11           250       581           534  \n",
              "12            55       189           156  \n",
              "13            95       268           247  \n",
              "14           338       726           650  \n",
              "15           250       563           533  \n",
              "16           231       524           492  \n",
              "17           378       788           707  \n",
              "18            48       183           484  \n",
              "19            55       191           171  \n",
              "20            85       274           259  \n",
              "21           290       638           567  \n",
              "22            93       259           276  \n",
              "23           300       654           655  \n",
              "24           246       565           491  \n",
              "25            69       218           483  \n",
              "26           279       623           538  \n",
              "27           475       964           878  \n",
              "28            21       116           189  \n",
              "29           548         3            94  \n",
              "30           336       725           679  \n",
              "31           204       458           448  \n",
              "32           250       576           502  \n",
              "33           220       503           435  \n",
              "34           307       665           769  \n",
              "35           212       472           419  \n",
              "36           212       486           400  \n",
              "37           307       706           769  \n",
              "38           140       350           310  \n",
              "39           191       462           472  "
            ],
            "text/html": [
              "\n",
              "  <div id=\"df-cfb54448-b21f-464c-9b61-a9015491c552\">\n",
              "    <div class=\"colab-df-container\">\n",
              "      <div>\n",
              "<style scoped>\n",
              "    .dataframe tbody tr th:only-of-type {\n",
              "        vertical-align: middle;\n",
              "    }\n",
              "\n",
              "    .dataframe tbody tr th {\n",
              "        vertical-align: top;\n",
              "    }\n",
              "\n",
              "    .dataframe thead th {\n",
              "        text-align: right;\n",
              "    }\n",
              "</style>\n",
              "<table border=\"1\" class=\"dataframe\">\n",
              "  <thead>\n",
              "    <tr style=\"text-align: right;\">\n",
              "      <th></th>\n",
              "      <th>MONTH</th>\n",
              "      <th>DAY_OF_MONTH</th>\n",
              "      <th>FL_NUM</th>\n",
              "      <th>ORIGIN_AIRPORT_ID</th>\n",
              "      <th>DEST_AIRPORT_ID</th>\n",
              "      <th>CRS_DEP_TIME</th>\n",
              "      <th>DEP_TIME</th>\n",
              "      <th>CRS_ARR_TIME</th>\n",
              "    </tr>\n",
              "  </thead>\n",
              "  <tbody>\n",
              "    <tr>\n",
              "      <th>0</th>\n",
              "      <td>0</td>\n",
              "      <td>0</td>\n",
              "      <td>335</td>\n",
              "      <td>0</td>\n",
              "      <td>4</td>\n",
              "      <td>423</td>\n",
              "      <td>890</td>\n",
              "      <td>836</td>\n",
              "    </tr>\n",
              "    <tr>\n",
              "      <th>1</th>\n",
              "      <td>0</td>\n",
              "      <td>0</td>\n",
              "      <td>361</td>\n",
              "      <td>1</td>\n",
              "      <td>3</td>\n",
              "      <td>250</td>\n",
              "      <td>570</td>\n",
              "      <td>450</td>\n",
              "    </tr>\n",
              "    <tr>\n",
              "      <th>2</th>\n",
              "      <td>0</td>\n",
              "      <td>0</td>\n",
              "      <td>392</td>\n",
              "      <td>0</td>\n",
              "      <td>4</td>\n",
              "      <td>131</td>\n",
              "      <td>329</td>\n",
              "      <td>314</td>\n",
              "    </tr>\n",
              "    <tr>\n",
              "      <th>3</th>\n",
              "      <td>0</td>\n",
              "      <td>0</td>\n",
              "      <td>429</td>\n",
              "      <td>4</td>\n",
              "      <td>3</td>\n",
              "      <td>82</td>\n",
              "      <td>247</td>\n",
              "      <td>390</td>\n",
              "    </tr>\n",
              "    <tr>\n",
              "      <th>4</th>\n",
              "      <td>0</td>\n",
              "      <td>0</td>\n",
              "      <td>441</td>\n",
              "      <td>4</td>\n",
              "      <td>1</td>\n",
              "      <td>532</td>\n",
              "      <td>1113</td>\n",
              "      <td>47</td>\n",
              "    </tr>\n",
              "    <tr>\n",
              "      <th>5</th>\n",
              "      <td>0</td>\n",
              "      <td>0</td>\n",
              "      <td>469</td>\n",
              "      <td>3</td>\n",
              "      <td>0</td>\n",
              "      <td>191</td>\n",
              "      <td>434</td>\n",
              "      <td>471</td>\n",
              "    </tr>\n",
              "    <tr>\n",
              "      <th>6</th>\n",
              "      <td>0</td>\n",
              "      <td>1</td>\n",
              "      <td>496</td>\n",
              "      <td>0</td>\n",
              "      <td>3</td>\n",
              "      <td>390</td>\n",
              "      <td>809</td>\n",
              "      <td>709</td>\n",
              "    </tr>\n",
              "    <tr>\n",
              "      <th>7</th>\n",
              "      <td>0</td>\n",
              "      <td>1</td>\n",
              "      <td>509</td>\n",
              "      <td>3</td>\n",
              "      <td>4</td>\n",
              "      <td>386</td>\n",
              "      <td>815</td>\n",
              "      <td>707</td>\n",
              "    </tr>\n",
              "    <tr>\n",
              "      <th>8</th>\n",
              "      <td>0</td>\n",
              "      <td>1</td>\n",
              "      <td>525</td>\n",
              "      <td>3</td>\n",
              "      <td>4</td>\n",
              "      <td>181</td>\n",
              "      <td>422</td>\n",
              "      <td>361</td>\n",
              "    </tr>\n",
              "    <tr>\n",
              "      <th>9</th>\n",
              "      <td>0</td>\n",
              "      <td>1</td>\n",
              "      <td>540</td>\n",
              "      <td>3</td>\n",
              "      <td>0</td>\n",
              "      <td>275</td>\n",
              "      <td>627</td>\n",
              "      <td>621</td>\n",
              "    </tr>\n",
              "    <tr>\n",
              "      <th>10</th>\n",
              "      <td>0</td>\n",
              "      <td>1</td>\n",
              "      <td>560</td>\n",
              "      <td>0</td>\n",
              "      <td>2</td>\n",
              "      <td>86</td>\n",
              "      <td>255</td>\n",
              "      <td>239</td>\n",
              "    </tr>\n",
              "    <tr>\n",
              "      <th>11</th>\n",
              "      <td>0</td>\n",
              "      <td>1</td>\n",
              "      <td>580</td>\n",
              "      <td>0</td>\n",
              "      <td>4</td>\n",
              "      <td>250</td>\n",
              "      <td>581</td>\n",
              "      <td>534</td>\n",
              "    </tr>\n",
              "    <tr>\n",
              "      <th>12</th>\n",
              "      <td>0</td>\n",
              "      <td>1</td>\n",
              "      <td>619</td>\n",
              "      <td>0</td>\n",
              "      <td>3</td>\n",
              "      <td>55</td>\n",
              "      <td>189</td>\n",
              "      <td>156</td>\n",
              "    </tr>\n",
              "    <tr>\n",
              "      <th>13</th>\n",
              "      <td>0</td>\n",
              "      <td>1</td>\n",
              "      <td>670</td>\n",
              "      <td>1</td>\n",
              "      <td>4</td>\n",
              "      <td>95</td>\n",
              "      <td>268</td>\n",
              "      <td>247</td>\n",
              "    </tr>\n",
              "    <tr>\n",
              "      <th>14</th>\n",
              "      <td>0</td>\n",
              "      <td>1</td>\n",
              "      <td>683</td>\n",
              "      <td>1</td>\n",
              "      <td>0</td>\n",
              "      <td>338</td>\n",
              "      <td>726</td>\n",
              "      <td>650</td>\n",
              "    </tr>\n",
              "    <tr>\n",
              "      <th>15</th>\n",
              "      <td>0</td>\n",
              "      <td>2</td>\n",
              "      <td>12</td>\n",
              "      <td>3</td>\n",
              "      <td>1</td>\n",
              "      <td>250</td>\n",
              "      <td>563</td>\n",
              "      <td>533</td>\n",
              "    </tr>\n",
              "    <tr>\n",
              "      <th>16</th>\n",
              "      <td>0</td>\n",
              "      <td>2</td>\n",
              "      <td>56</td>\n",
              "      <td>2</td>\n",
              "      <td>0</td>\n",
              "      <td>231</td>\n",
              "      <td>524</td>\n",
              "      <td>492</td>\n",
              "    </tr>\n",
              "    <tr>\n",
              "      <th>17</th>\n",
              "      <td>0</td>\n",
              "      <td>1</td>\n",
              "      <td>441</td>\n",
              "      <td>1</td>\n",
              "      <td>4</td>\n",
              "      <td>378</td>\n",
              "      <td>788</td>\n",
              "      <td>707</td>\n",
              "    </tr>\n",
              "    <tr>\n",
              "      <th>18</th>\n",
              "      <td>0</td>\n",
              "      <td>1</td>\n",
              "      <td>468</td>\n",
              "      <td>4</td>\n",
              "      <td>2</td>\n",
              "      <td>48</td>\n",
              "      <td>183</td>\n",
              "      <td>484</td>\n",
              "    </tr>\n",
              "    <tr>\n",
              "      <th>19</th>\n",
              "      <td>0</td>\n",
              "      <td>1</td>\n",
              "      <td>477</td>\n",
              "      <td>0</td>\n",
              "      <td>1</td>\n",
              "      <td>55</td>\n",
              "      <td>191</td>\n",
              "      <td>171</td>\n",
              "    </tr>\n",
              "    <tr>\n",
              "      <th>20</th>\n",
              "      <td>0</td>\n",
              "      <td>1</td>\n",
              "      <td>486</td>\n",
              "      <td>0</td>\n",
              "      <td>4</td>\n",
              "      <td>85</td>\n",
              "      <td>274</td>\n",
              "      <td>259</td>\n",
              "    </tr>\n",
              "    <tr>\n",
              "      <th>21</th>\n",
              "      <td>0</td>\n",
              "      <td>2</td>\n",
              "      <td>225</td>\n",
              "      <td>0</td>\n",
              "      <td>1</td>\n",
              "      <td>290</td>\n",
              "      <td>638</td>\n",
              "      <td>567</td>\n",
              "    </tr>\n",
              "    <tr>\n",
              "      <th>22</th>\n",
              "      <td>0</td>\n",
              "      <td>2</td>\n",
              "      <td>256</td>\n",
              "      <td>3</td>\n",
              "      <td>1</td>\n",
              "      <td>93</td>\n",
              "      <td>259</td>\n",
              "      <td>276</td>\n",
              "    </tr>\n",
              "    <tr>\n",
              "      <th>23</th>\n",
              "      <td>0</td>\n",
              "      <td>2</td>\n",
              "      <td>273</td>\n",
              "      <td>3</td>\n",
              "      <td>0</td>\n",
              "      <td>300</td>\n",
              "      <td>654</td>\n",
              "      <td>655</td>\n",
              "    </tr>\n",
              "    <tr>\n",
              "      <th>24</th>\n",
              "      <td>0</td>\n",
              "      <td>2</td>\n",
              "      <td>296</td>\n",
              "      <td>0</td>\n",
              "      <td>1</td>\n",
              "      <td>246</td>\n",
              "      <td>565</td>\n",
              "      <td>491</td>\n",
              "    </tr>\n",
              "    <tr>\n",
              "      <th>25</th>\n",
              "      <td>0</td>\n",
              "      <td>2</td>\n",
              "      <td>312</td>\n",
              "      <td>4</td>\n",
              "      <td>0</td>\n",
              "      <td>69</td>\n",
              "      <td>218</td>\n",
              "      <td>483</td>\n",
              "    </tr>\n",
              "    <tr>\n",
              "      <th>26</th>\n",
              "      <td>0</td>\n",
              "      <td>2</td>\n",
              "      <td>334</td>\n",
              "      <td>3</td>\n",
              "      <td>4</td>\n",
              "      <td>279</td>\n",
              "      <td>623</td>\n",
              "      <td>538</td>\n",
              "    </tr>\n",
              "    <tr>\n",
              "      <th>27</th>\n",
              "      <td>0</td>\n",
              "      <td>2</td>\n",
              "      <td>347</td>\n",
              "      <td>1</td>\n",
              "      <td>0</td>\n",
              "      <td>475</td>\n",
              "      <td>964</td>\n",
              "      <td>878</td>\n",
              "    </tr>\n",
              "    <tr>\n",
              "      <th>28</th>\n",
              "      <td>0</td>\n",
              "      <td>2</td>\n",
              "      <td>364</td>\n",
              "      <td>3</td>\n",
              "      <td>0</td>\n",
              "      <td>21</td>\n",
              "      <td>116</td>\n",
              "      <td>189</td>\n",
              "    </tr>\n",
              "    <tr>\n",
              "      <th>29</th>\n",
              "      <td>0</td>\n",
              "      <td>2</td>\n",
              "      <td>383</td>\n",
              "      <td>4</td>\n",
              "      <td>0</td>\n",
              "      <td>548</td>\n",
              "      <td>3</td>\n",
              "      <td>94</td>\n",
              "    </tr>\n",
              "    <tr>\n",
              "      <th>30</th>\n",
              "      <td>0</td>\n",
              "      <td>2</td>\n",
              "      <td>404</td>\n",
              "      <td>0</td>\n",
              "      <td>4</td>\n",
              "      <td>336</td>\n",
              "      <td>725</td>\n",
              "      <td>679</td>\n",
              "    </tr>\n",
              "    <tr>\n",
              "      <th>31</th>\n",
              "      <td>0</td>\n",
              "      <td>2</td>\n",
              "      <td>423</td>\n",
              "      <td>3</td>\n",
              "      <td>1</td>\n",
              "      <td>204</td>\n",
              "      <td>458</td>\n",
              "      <td>448</td>\n",
              "    </tr>\n",
              "    <tr>\n",
              "      <th>32</th>\n",
              "      <td>0</td>\n",
              "      <td>3</td>\n",
              "      <td>387</td>\n",
              "      <td>1</td>\n",
              "      <td>0</td>\n",
              "      <td>250</td>\n",
              "      <td>576</td>\n",
              "      <td>502</td>\n",
              "    </tr>\n",
              "    <tr>\n",
              "      <th>33</th>\n",
              "      <td>0</td>\n",
              "      <td>3</td>\n",
              "      <td>416</td>\n",
              "      <td>1</td>\n",
              "      <td>4</td>\n",
              "      <td>220</td>\n",
              "      <td>503</td>\n",
              "      <td>435</td>\n",
              "    </tr>\n",
              "    <tr>\n",
              "      <th>34</th>\n",
              "      <td>0</td>\n",
              "      <td>3</td>\n",
              "      <td>430</td>\n",
              "      <td>4</td>\n",
              "      <td>3</td>\n",
              "      <td>307</td>\n",
              "      <td>665</td>\n",
              "      <td>769</td>\n",
              "    </tr>\n",
              "    <tr>\n",
              "      <th>35</th>\n",
              "      <td>0</td>\n",
              "      <td>1</td>\n",
              "      <td>254</td>\n",
              "      <td>0</td>\n",
              "      <td>1</td>\n",
              "      <td>212</td>\n",
              "      <td>472</td>\n",
              "      <td>419</td>\n",
              "    </tr>\n",
              "    <tr>\n",
              "      <th>36</th>\n",
              "      <td>0</td>\n",
              "      <td>1</td>\n",
              "      <td>271</td>\n",
              "      <td>0</td>\n",
              "      <td>3</td>\n",
              "      <td>212</td>\n",
              "      <td>486</td>\n",
              "      <td>400</td>\n",
              "    </tr>\n",
              "    <tr>\n",
              "      <th>37</th>\n",
              "      <td>0</td>\n",
              "      <td>2</td>\n",
              "      <td>430</td>\n",
              "      <td>4</td>\n",
              "      <td>3</td>\n",
              "      <td>307</td>\n",
              "      <td>706</td>\n",
              "      <td>769</td>\n",
              "    </tr>\n",
              "    <tr>\n",
              "      <th>38</th>\n",
              "      <td>0</td>\n",
              "      <td>2</td>\n",
              "      <td>444</td>\n",
              "      <td>1</td>\n",
              "      <td>0</td>\n",
              "      <td>140</td>\n",
              "      <td>350</td>\n",
              "      <td>310</td>\n",
              "    </tr>\n",
              "    <tr>\n",
              "      <th>39</th>\n",
              "      <td>0</td>\n",
              "      <td>2</td>\n",
              "      <td>469</td>\n",
              "      <td>3</td>\n",
              "      <td>0</td>\n",
              "      <td>191</td>\n",
              "      <td>462</td>\n",
              "      <td>472</td>\n",
              "    </tr>\n",
              "  </tbody>\n",
              "</table>\n",
              "</div>\n",
              "      <button class=\"colab-df-convert\" onclick=\"convertToInteractive('df-cfb54448-b21f-464c-9b61-a9015491c552')\"\n",
              "              title=\"Convert this dataframe to an interactive table.\"\n",
              "              style=\"display:none;\">\n",
              "        \n",
              "  <svg xmlns=\"http://www.w3.org/2000/svg\" height=\"24px\"viewBox=\"0 0 24 24\"\n",
              "       width=\"24px\">\n",
              "    <path d=\"M0 0h24v24H0V0z\" fill=\"none\"/>\n",
              "    <path d=\"M18.56 5.44l.94 2.06.94-2.06 2.06-.94-2.06-.94-.94-2.06-.94 2.06-2.06.94zm-11 1L8.5 8.5l.94-2.06 2.06-.94-2.06-.94L8.5 2.5l-.94 2.06-2.06.94zm10 10l.94 2.06.94-2.06 2.06-.94-2.06-.94-.94-2.06-.94 2.06-2.06.94z\"/><path d=\"M17.41 7.96l-1.37-1.37c-.4-.4-.92-.59-1.43-.59-.52 0-1.04.2-1.43.59L10.3 9.45l-7.72 7.72c-.78.78-.78 2.05 0 2.83L4 21.41c.39.39.9.59 1.41.59.51 0 1.02-.2 1.41-.59l7.78-7.78 2.81-2.81c.8-.78.8-2.07 0-2.86zM5.41 20L4 18.59l7.72-7.72 1.47 1.35L5.41 20z\"/>\n",
              "  </svg>\n",
              "      </button>\n",
              "      \n",
              "  <style>\n",
              "    .colab-df-container {\n",
              "      display:flex;\n",
              "      flex-wrap:wrap;\n",
              "      gap: 12px;\n",
              "    }\n",
              "\n",
              "    .colab-df-convert {\n",
              "      background-color: #E8F0FE;\n",
              "      border: none;\n",
              "      border-radius: 50%;\n",
              "      cursor: pointer;\n",
              "      display: none;\n",
              "      fill: #1967D2;\n",
              "      height: 32px;\n",
              "      padding: 0 0 0 0;\n",
              "      width: 32px;\n",
              "    }\n",
              "\n",
              "    .colab-df-convert:hover {\n",
              "      background-color: #E2EBFA;\n",
              "      box-shadow: 0px 1px 2px rgba(60, 64, 67, 0.3), 0px 1px 3px 1px rgba(60, 64, 67, 0.15);\n",
              "      fill: #174EA6;\n",
              "    }\n",
              "\n",
              "    [theme=dark] .colab-df-convert {\n",
              "      background-color: #3B4455;\n",
              "      fill: #D2E3FC;\n",
              "    }\n",
              "\n",
              "    [theme=dark] .colab-df-convert:hover {\n",
              "      background-color: #434B5C;\n",
              "      box-shadow: 0px 1px 3px 1px rgba(0, 0, 0, 0.15);\n",
              "      filter: drop-shadow(0px 1px 2px rgba(0, 0, 0, 0.3));\n",
              "      fill: #FFFFFF;\n",
              "    }\n",
              "  </style>\n",
              "\n",
              "      <script>\n",
              "        const buttonEl =\n",
              "          document.querySelector('#df-cfb54448-b21f-464c-9b61-a9015491c552 button.colab-df-convert');\n",
              "        buttonEl.style.display =\n",
              "          google.colab.kernel.accessAllowed ? 'block' : 'none';\n",
              "\n",
              "        async function convertToInteractive(key) {\n",
              "          const element = document.querySelector('#df-cfb54448-b21f-464c-9b61-a9015491c552');\n",
              "          const dataTable =\n",
              "            await google.colab.kernel.invokeFunction('convertToInteractive',\n",
              "                                                     [key], {});\n",
              "          if (!dataTable) return;\n",
              "\n",
              "          const docLinkHtml = 'Like what you see? Visit the ' +\n",
              "            '<a target=\"_blank\" href=https://colab.research.google.com/notebooks/data_table.ipynb>data table notebook</a>'\n",
              "            + ' to learn more about interactive tables.';\n",
              "          element.innerHTML = '';\n",
              "          dataTable['output_type'] = 'display_data';\n",
              "          await google.colab.output.renderOutput(dataTable, element);\n",
              "          const docLink = document.createElement('div');\n",
              "          docLink.innerHTML = docLinkHtml;\n",
              "          element.appendChild(docLink);\n",
              "        }\n",
              "      </script>\n",
              "    </div>\n",
              "  </div>\n",
              "  "
            ]
          },
          "metadata": {},
          "execution_count": 111
        }
      ]
    },
    {
      "cell_type": "markdown",
      "source": [
        "Split & train Dataset"
      ],
      "metadata": {
        "id": "fFbwcu0TlqqZ"
      }
    },
    {
      "cell_type": "code",
      "source": [
        "X_train, X_test, y_train, y_test = train_test_split(X, y, test_size=0.30, random_state=42)"
      ],
      "metadata": {
        "id": "_XEKit4Xi3ih"
      },
      "execution_count": 112,
      "outputs": []
    },
    {
      "cell_type": "code",
      "source": [
        "print(X_train.shape)\n",
        "print(X_test.shape)\n",
        "print(y_train.shape)\n",
        "print(y_test.shape)"
      ],
      "metadata": {
        "colab": {
          "base_uri": "https://localhost:8080/"
        },
        "id": "lMdfjV5XmLP8",
        "outputId": "057e91b4-576b-43dc-d195-51c913e0c58f"
      },
      "execution_count": 113,
      "outputs": [
        {
          "output_type": "stream",
          "name": "stdout",
          "text": [
            "(7861, 8)\n",
            "(3370, 8)\n",
            "(7861,)\n",
            "(3370,)\n"
          ]
        }
      ]
    },
    {
      "cell_type": "markdown",
      "source": [
        "Decision Tree Classifier "
      ],
      "metadata": {
        "id": "Bfm5t6rCnFGj"
      }
    },
    {
      "cell_type": "code",
      "source": [
        "dt = DecisionTreeClassifier()\n",
        "dt.fit(X_train, y_train)"
      ],
      "metadata": {
        "colab": {
          "base_uri": "https://localhost:8080/"
        },
        "id": "CFGpyvRVmO36",
        "outputId": "86af7a64-bcf8-4393-bf27-d7c17200a615"
      },
      "execution_count": 114,
      "outputs": [
        {
          "output_type": "execute_result",
          "data": {
            "text/plain": [
              "DecisionTreeClassifier()"
            ]
          },
          "metadata": {},
          "execution_count": 114
        }
      ]
    },
    {
      "cell_type": "markdown",
      "source": [
        "Evaluation"
      ],
      "metadata": {
        "id": "kVykNyGE752c"
      }
    },
    {
      "cell_type": "code",
      "source": [
        "dt.score(X_train,y_train)"
      ],
      "metadata": {
        "colab": {
          "base_uri": "https://localhost:8080/"
        },
        "id": "jpnhZNIG_-vI",
        "outputId": "9cfae8eb-7d91-40db-fea5-883a08aed291"
      },
      "execution_count": 115,
      "outputs": [
        {
          "output_type": "execute_result",
          "data": {
            "text/plain": [
              "1.0"
            ]
          },
          "metadata": {},
          "execution_count": 115
        }
      ]
    },
    {
      "cell_type": "code",
      "source": [
        "dt.score(X_test,y_test)"
      ],
      "metadata": {
        "colab": {
          "base_uri": "https://localhost:8080/"
        },
        "id": "y5zno3OVblzc",
        "outputId": "382dcf74-835d-479f-b8b6-198cd2b9cfab"
      },
      "execution_count": 116,
      "outputs": [
        {
          "output_type": "execute_result",
          "data": {
            "text/plain": [
              "0.8896142433234422"
            ]
          },
          "metadata": {},
          "execution_count": 116
        }
      ]
    },
    {
      "cell_type": "code",
      "source": [
        "predict=dt.predict(X_test)\n",
        "predict"
      ],
      "metadata": {
        "colab": {
          "base_uri": "https://localhost:8080/"
        },
        "id": "9tV2DRJ8ASih",
        "outputId": "d2767829-8b0e-4e28-84c2-7357cd8d5b3b"
      },
      "execution_count": 117,
      "outputs": [
        {
          "output_type": "execute_result",
          "data": {
            "text/plain": [
              "array([0, 0, 0, ..., 0, 0, 0])"
            ]
          },
          "metadata": {},
          "execution_count": 117
        }
      ]
    },
    {
      "cell_type": "code",
      "source": [
        "X_in=np.array([0,3,416,1,4,220,503,435])"
      ],
      "metadata": {
        "id": "aDkbp_fBA08o"
      },
      "execution_count": 118,
      "outputs": []
    },
    {
      "cell_type": "code",
      "source": [
        "y_pred=dt.predict([X_in])"
      ],
      "metadata": {
        "colab": {
          "base_uri": "https://localhost:8080/"
        },
        "id": "RxvhyP4sBSWI",
        "outputId": "04c48394-bacf-4a79-d0c1-83c911685291"
      },
      "execution_count": 119,
      "outputs": [
        {
          "output_type": "stream",
          "name": "stderr",
          "text": [
            "/usr/local/lib/python3.7/dist-packages/sklearn/base.py:451: UserWarning: X does not have valid feature names, but DecisionTreeClassifier was fitted with feature names\n",
            "  \"X does not have valid feature names, but\"\n"
          ]
        }
      ]
    },
    {
      "cell_type": "code",
      "source": [
        "y_pred"
      ],
      "metadata": {
        "colab": {
          "base_uri": "https://localhost:8080/"
        },
        "id": "CksQ-ITqBWiB",
        "outputId": "8a7d202d-7868-4b6f-8614-85776ed1f4c6"
      },
      "execution_count": 120,
      "outputs": [
        {
          "output_type": "execute_result",
          "data": {
            "text/plain": [
              "array([0])"
            ]
          },
          "metadata": {},
          "execution_count": 120
        }
      ]
    },
    {
      "cell_type": "markdown",
      "source": [
        "Saving The Model"
      ],
      "metadata": {
        "id": "kbsIN4U3_BMk"
      }
    },
    {
      "cell_type": "code",
      "source": [
        "with open('flight.pkl', 'wb') as files:\n",
        "    pickle.dump(dt, files)"
      ],
      "metadata": {
        "id": "tVQ6ceF8805J"
      },
      "execution_count": 121,
      "outputs": []
    },
    {
      "cell_type": "code",
      "source": [],
      "metadata": {
        "id": "BNQPJHA5_5wt"
      },
      "execution_count": null,
      "outputs": []
    }
  ]
}